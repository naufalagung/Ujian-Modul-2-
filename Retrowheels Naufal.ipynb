{
 "metadata": {
  "language_info": {
   "codemirror_mode": {
    "name": "ipython",
    "version": 3
   },
   "file_extension": ".py",
   "mimetype": "text/x-python",
   "name": "python",
   "nbconvert_exporter": "python",
   "pygments_lexer": "ipython3",
   "version": "3.8.5-final"
  },
  "orig_nbformat": 2,
  "kernelspec": {
   "name": "python3",
   "display_name": "Python 3",
   "language": "python"
  }
 },
 "nbformat": 4,
 "nbformat_minor": 2,
 "cells": [
  {
   "cell_type": "code",
   "execution_count": 1,
   "metadata": {},
   "outputs": [],
   "source": [
    "import pandas as pd\n",
    "import numpy as np \n",
    "import mysql.connector\n",
    "import sqlalchemy as alc"
   ]
  },
  {
   "cell_type": "code",
   "execution_count": 2,
   "metadata": {},
   "outputs": [],
   "source": [
    "mydb = mysql.connector.connect(host='localhost', user='root', passwd='', database='retrowheels')"
   ]
  },
  {
   "cell_type": "code",
   "execution_count": null,
   "metadata": {},
   "outputs": [],
   "source": [
    "mycursor = mydb.cursor()\n",
    "mycursor.execute = ('''show full;''') \n",
    "myresult = mycursor.fetchall()\n",
    "\n",
    "columns = mycursor.column_names\n",
    "tables = pd.DataFrame(myresult, columns=columns)\n",
    "tables"
   ]
  },
  {
   "source": [
    "## Rumuskan single query untuk menampilkan ada berapa karyawan di setiap kota di mana toko anda berada, urutkan dari kota dengan jumlah Employee terbesar. Contoh output yang diharapkan:"
   ],
   "cell_type": "markdown",
   "metadata": {}
  },
  {
   "cell_type": "code",
   "execution_count": null,
   "metadata": {},
   "outputs": [],
   "source": [
    "mycursor = mydb.cursor()\n",
    "mycursor.execute('''select off.city, count(em.officeCode) as EmployeeNumber\n",
    "from offices off inner join employees em on off.officeCode=em.officeCode\n",
    "group by em.officeCode\n",
    "order by em.officeCode;\n",
    "''')\n",
    "myresult = mycursor.fetchall()"
   ]
  },
  {
   "source": [
    "## Rumuskan single query untuk menampilkan ada berapa jenis product dan lineproduct yang Anda miliki."
   ],
   "cell_type": "markdown",
   "metadata": {}
  },
  {
   "cell_type": "code",
   "execution_count": null,
   "metadata": {},
   "outputs": [],
   "source": [
    "mycursor = mydb.cursor()\n",
    "mycursor.execute(''' select count(p.productName), count(pl.productLine)\n",
    "from productlines pl, products p;\n",
    "''')\n",
    "myresult = mycursor.fetchall()"
   ]
  },
  {
   "source": [
    "## Rumuskan single query untuk menampilkan 5 produk yg mendapat order paling banyak"
   ],
   "cell_type": "markdown",
   "metadata": {}
  },
  {
   "cell_type": "code",
   "execution_count": null,
   "metadata": {},
   "outputs": [],
   "source": [
    "mycursor = mydb.cursor()\n",
    "mycursor.execute(''' select products.productCode, products.productName, products.productLine, sum(orderdetails.quantityOrdered)\n",
    "from orderdetails inner join products on orderdetails.productCode=products.productCode\n",
    "group by products.productCode\n",
    "order by sum(orderdetails.quantityOrdered) desc limit 5;\n",
    "''')\n",
    "myresult = mycursor.fetchall()"
   ]
  },
  {
   "source": [
    "## Dari query di atas, kita tahu bahwa, 1992 Ferrari 360 Spider red memiliki jumlah order paling tinggi. Rumuskan single query untuk siapa saja yang membeli 1992 Ferrari 360 Spider red dan berapa total jumlah order mereka"
   ],
   "cell_type": "markdown",
   "metadata": {}
  },
  {
   "cell_type": "code",
   "execution_count": null,
   "metadata": {},
   "outputs": [],
   "source": [
    "mycursor = mydb.cursor()\n",
    "mycursor.execute(''' select customers.customerName, customers.city, customers.country, orderdetails.quantityOrdered as totalOrder\n",
    "from customers inner join orders on customers.customerNumber=orders.customerNumber\n",
    "inner join orderdetails on orders.orderNumber=orderdetails.orderNumber\n",
    "where orderdetails.productCode='S18_3232'\n",
    "group by customers.customerName limit 10;\n",
    "''')\n",
    "myresult = mycursor.fetchall()"
   ]
  },
  {
   "source": [
    "## 3 dari 5 produk yang paling banyak diorder berasal dari line produk Vintage car. Rumuskan single query untuk mencari produk apa saja dari line produk Vintage car yang memiliki rata-rata order di bawah rata-rata order line produk tersebut"
   ],
   "cell_type": "markdown",
   "metadata": {}
  },
  {
   "cell_type": "code",
   "execution_count": null,
   "metadata": {},
   "outputs": [],
   "source": [
    "mycursor = mydb.cursor()\n",
    "mycursor.execute(''' select products.productCode, products.productName, products.productLine, avg(orderdetails.quantityOrdered)\n",
    "from products inner join orderdetails on orderdetails.productCode=products.productCode\n",
    "where products.productLine='Vintage car'\n",
    "group by products.productCodec\n",
    "having avg(orderdetails.quantityOrdered)> ;\n",
    "''')\n",
    "myresult = mycursor.fetchall()\n",
    "\n"
   ]
  }
 ]
}